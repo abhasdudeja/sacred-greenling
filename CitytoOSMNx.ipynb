{
 "cells": [
  {
   "cell_type": "code",
   "execution_count": 4,
   "id": "b8c3bec1",
   "metadata": {},
   "outputs": [
    {
     "data": {
      "application/vnd.jupyter.widget-view+json": {
       "model_id": "b6b558ab5dd94bc2bb74265cf409a22f",
       "version_major": 2,
       "version_minor": 0
      },
      "text/plain": [
       "HTML(value='\\n<style>\\n.custom-description label{\\n    font-size: 15px;\\n    description_width: initial;\\n    …"
      ]
     },
     "metadata": {},
     "output_type": "display_data"
    },
    {
     "data": {
      "application/vnd.jupyter.widget-view+json": {
       "model_id": "5fd818efd5a1465e9a38d25bcf796ce0",
       "version_major": 2,
       "version_minor": 0
      },
      "text/plain": [
       "Text(value='', description='City:', layout=Layout(width='50%'), placeholder='City, State (if any), Country in …"
      ]
     },
     "metadata": {},
     "output_type": "display_data"
    },
    {
     "data": {
      "application/vnd.jupyter.widget-view+json": {
       "model_id": "a7cbba3274074a7c9d9cedf63dc98455",
       "version_major": 2,
       "version_minor": 0
      },
      "text/plain": [
       "SelectMultiple(_dom_classes=('custom-description',), description='Network Types', index=(0, 1, 2, 3, 4, 5, 6, …"
      ]
     },
     "metadata": {},
     "output_type": "display_data"
    },
    {
     "data": {
      "application/vnd.jupyter.widget-view+json": {
       "model_id": "c402cd4315b3439caddb69a1f2532421",
       "version_major": 2,
       "version_minor": 0
      },
      "text/plain": [
       "ColorPicker(value='white', description='Road Color', layout=Layout(width='50%'), _dom_classes=('custom-descrip…"
      ]
     },
     "metadata": {},
     "output_type": "display_data"
    },
    {
     "data": {
      "application/vnd.jupyter.widget-view+json": {
       "model_id": "fe74a7e0fe39470db6f62c2474ae1b9b",
       "version_major": 2,
       "version_minor": 0
      },
      "text/plain": [
       "ColorPicker(value='black', description='BG Color', layout=Layout(width='50%'), _dom_classes=('custom-descripti…"
      ]
     },
     "metadata": {},
     "output_type": "display_data"
    },
    {
     "data": {
      "application/vnd.jupyter.widget-view+json": {
       "model_id": "7c1cd9c1a84643558ec325850cc4f13e",
       "version_major": 2,
       "version_minor": 0
      },
      "text/plain": [
       "ColorPicker(value='red', description='Text Color', layout=Layout(width='50%'), _dom_classes=('custom-descripti…"
      ]
     },
     "metadata": {},
     "output_type": "display_data"
    },
    {
     "data": {
      "application/vnd.jupyter.widget-view+json": {
       "model_id": "4a88d56372324116b0afe8a0dd75d4de",
       "version_major": 2,
       "version_minor": 0
      },
      "text/plain": [
       "Button(description='Submit', icon='check', layout=Layout(width='50%'), style=ButtonStyle(), tooltip='Submit', …"
      ]
     },
     "metadata": {},
     "output_type": "display_data"
    },
    {
     "data": {
      "application/vnd.jupyter.widget-view+json": {
       "model_id": "b983ef1801c04447a6fc79f40c91af06",
       "version_major": 2,
       "version_minor": 0
      },
      "text/plain": [
       "Output()"
      ]
     },
     "metadata": {},
     "output_type": "display_data"
    }
   ],
   "source": [
    "from osmnx import settings\n",
    "import osmnx as ox\n",
    "import matplotlib.pyplot as plt\n",
    "from IPython.display import display, Image\n",
    "from ipywidgets import Layout, Text, SelectMultiple, ColorPicker, Button, Output, HTML\n",
    "\n",
    "settings.use_cache = True\n",
    "\n",
    "\n",
    "\n",
    "# Function to create and display the road network map\n",
    "def create_map(city_name, network_types, road_color, bg_color, text_color):\n",
    "    try:\n",
    "        \n",
    "        city_polygon = ox.geocode_to_gdf(city_name).geometry.to_list()[0]\n",
    "        formatted_network_types = \"|\".join(network_types)\n",
    "        network_type_filter = f'[\"highway\"~\"{formatted_network_types}\"]'\n",
    "        graph = ox.graph_from_polygon(city_polygon, custom_filter=network_type_filter)\n",
    "        nodes, edges = ox.graph_to_gdfs(graph)\n",
    "\n",
    "        fig, ax = plt.subplots(figsize=(10, 10))\n",
    "        ax.set_aspect('equal')\n",
    "\n",
    "        road_color = road_color if road_color else '#ffffff'\n",
    "        bg_color = bg_color if bg_color else '#000000'\n",
    "        edges.plot(ax=ax, color=road_color)\n",
    "        ax.set_facecolor(bg_color)\n",
    "\n",
    "        ax.set_xticks([])\n",
    "        ax.set_yticks([])\n",
    "\n",
    "        y_range = ax.get_ylim()\n",
    "        ax.set_ylim(y_range[0], y_range[1] + 0.2 * (y_range[1] - y_range[0]))\n",
    "        ax.set_title(city_name, fontsize=30, color=text_color, y=0.9)\n",
    "        \n",
    "        plt.show()\n",
    "\n",
    "    except Exception as e:\n",
    "        print(f\"An error occurred: {e}\")\n",
    "\n",
    "# Widgets for user inputs\n",
    "city_input = Text(\n",
    "    value='',\n",
    "    placeholder='City, State (if any), Country in full',\n",
    "    description='City:',\n",
    "    disabled=False,\n",
    "    layout = Layout(width='50%'),\n",
    "    tooltip='Enter the city name',\n",
    "    _dom_classes=[\"custom-description\"]\n",
    "\n",
    ")\n",
    "\n",
    "network_types_input = SelectMultiple(\n",
    "    options=[\"motorway\",\"motorway_link\", \"trunk\",\"trunk_link\", \"primary\",\"primary_link\", \"secondary\",\"secondary_link\", \"tertiary\",\"tertiary_link\" ],\n",
    "    value=[\"motorway\",\"motorway_link\", \"trunk\",\"trunk_link\", \"primary\",\"primary_link\", \"secondary\", \"tertiary\"],\n",
    "    description='Network Types',\n",
    "    layout = Layout(width='50%'),\n",
    "    disabled=False,\n",
    "    _dom_classes=[\"custom-description\"])\n",
    "\n",
    "road_color_input = ColorPicker(\n",
    "    value='white',\n",
    "    description='Road Color',\n",
    "    disabled=False,\n",
    "    layout = Layout(width='50%'),\n",
    "    _dom_classes=[\"custom-description\"]\n",
    ")\n",
    "\n",
    "bg_color_input = ColorPicker(\n",
    "    value='black',\n",
    "    description='BG Color',\n",
    "    disabled=False,\n",
    "    layout = Layout(width='50%'),\n",
    "    _dom_classes=[\"custom-description\"])\n",
    "\n",
    "text_color_input = ColorPicker(\n",
    "    value='red', \n",
    "    description='Text Color',\n",
    "    disabled=False,\n",
    "    layout = Layout(width='50%'),\n",
    "    _dom_classes=[\"custom-description\"])\n",
    "\n",
    "submit_button = Button(\n",
    "    description='Submit',\n",
    "    disabled=False,\n",
    "    layout = Layout(width='50%'),\n",
    "    button_style='',\n",
    "    tooltip='Submit',\n",
    "    icon='check',\n",
    "    _dom_classes=[\"custom-description\"])\n",
    "\n",
    "output = Output()\n",
    "\n",
    "def on_submit_button_clicked(b):\n",
    "    with output:\n",
    "        output.clear_output()\n",
    "        create_map(city_input.value, network_types_input.value, road_color_input.value, bg_color_input.value, text_color_input.value)\n",
    "\n",
    "submit_button.on_click(on_submit_button_clicked)\n",
    "\n",
    "# Display the widgets and output\n",
    "display(HTML(\"\"\"\n",
    "<style>\n",
    ".custom-description label{\n",
    "    font-size: 15px;\n",
    "    color: red !important;\n",
    "}\n",
    "</style>\n",
    "\"\"\"))\n",
    "\n",
    "display(city_input, network_types_input, road_color_input, bg_color_input,text_color_input, submit_button, output)"
   ]
  }
 ],
 "metadata": {
  "kernelspec": {
   "display_name": "Python 3 (ipykernel)",
   "language": "python",
   "name": "python3"
  },
  "language_info": {
   "codemirror_mode": {
    "name": "ipython",
    "version": 3
   },
   "file_extension": ".py",
   "mimetype": "text/x-python",
   "name": "python",
   "nbconvert_exporter": "python",
   "pygments_lexer": "ipython3",
   "version": "3.12.2"
  }
 },
 "nbformat": 4,
 "nbformat_minor": 5
}
