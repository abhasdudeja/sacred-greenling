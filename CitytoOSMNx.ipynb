{
 "cells": [
  {
   "cell_type": "code",
   "execution_count": 3,
   "id": "b8c3bec1",
   "metadata": {},
   "outputs": [
    {
     "data": {
      "application/vnd.jupyter.widget-view+json": {
       "model_id": "70c938235a454f47a7f264a4cc96c8e9",
       "version_major": 2,
       "version_minor": 0
      },
      "text/plain": [
       "Text(value='', description='City:', placeholder='City, State (if any), Country in full')"
      ]
     },
     "metadata": {},
     "output_type": "display_data"
    },
    {
     "data": {
      "application/vnd.jupyter.widget-view+json": {
       "model_id": "1a742b1eafa44938889857063e7801cb",
       "version_major": 2,
       "version_minor": 0
      },
      "text/plain": [
       "SelectMultiple(description='Network Types', index=(0, 1, 2), options=('motorway', 'trunk', 'primary', 'seconda…"
      ]
     },
     "metadata": {},
     "output_type": "display_data"
    },
    {
     "data": {
      "application/vnd.jupyter.widget-view+json": {
       "model_id": "7f6a6b7dd89e4904acc82c5c74531884",
       "version_major": 2,
       "version_minor": 0
      },
      "text/plain": [
       "ColorPicker(value='#ffffff', description='Road Color')"
      ]
     },
     "metadata": {},
     "output_type": "display_data"
    },
    {
     "data": {
      "application/vnd.jupyter.widget-view+json": {
       "model_id": "0a14a7be362e41fca27f5f6ca337a506",
       "version_major": 2,
       "version_minor": 0
      },
      "text/plain": [
       "ColorPicker(value='#000000', description='BG Color')"
      ]
     },
     "metadata": {},
     "output_type": "display_data"
    },
    {
     "data": {
      "application/vnd.jupyter.widget-view+json": {
       "model_id": "cb8c92bac8674d84998609043b7a9740",
       "version_major": 2,
       "version_minor": 0
      },
      "text/plain": [
       "Button(description='Submit', icon='check', style=ButtonStyle(), tooltip='Submit')"
      ]
     },
     "metadata": {},
     "output_type": "display_data"
    },
    {
     "data": {
      "application/vnd.jupyter.widget-view+json": {
       "model_id": "bc112ab8a72a4d678a1a853b0a5ef6fa",
       "version_major": 2,
       "version_minor": 0
      },
      "text/plain": [
       "Output()"
      ]
     },
     "metadata": {},
     "output_type": "display_data"
    }
   ],
   "source": [
    "import osmnx as ox\n",
    "import matplotlib.pyplot as plt\n",
    "from IPython.display import display, Image\n",
    "import ipywidgets as widgets\n",
    "\n",
    "# Function to create and display the road network map\n",
    "def create_map(city_name, network_types, road_color, bg_color):\n",
    "    try:\n",
    "        city_polygon = ox.geocode_to_gdf(city_name).geometry.to_list()[0]\n",
    "        formatted_network_types = \"|\".join(network_types)\n",
    "        network_type_filter = f'[\"highway\"~\"{formatted_network_types}\"]'\n",
    "        graph = ox.graph_from_polygon(city_polygon, custom_filter=network_type_filter)\n",
    "        nodes, edges = ox.graph_to_gdfs(graph)\n",
    "\n",
    "        fig, ax = plt.subplots(figsize=(10, 10))\n",
    "        ax.set_aspect('equal')\n",
    "\n",
    "        road_color = road_color if road_color else '#ffffff'\n",
    "        bg_color = bg_color if bg_color else '#000000'\n",
    "        edges.plot(ax=ax, color=road_color)\n",
    "        ax.set_facecolor(bg_color)\n",
    "\n",
    "        ax.set_xticks([])\n",
    "        ax.set_yticks([])\n",
    "\n",
    "        y_range = ax.get_ylim()\n",
    "        ax.set_ylim(y_range[0], y_range[1] + 0.2 * (y_range[1] - y_range[0]))\n",
    "        ax.set_title(city_name, fontsize=30, color=road_color, y=0.9)\n",
    "\n",
    "        plt.show()\n",
    "\n",
    "    except Exception as e:\n",
    "        print(f\"An error occurred: {e}\")\n",
    "\n",
    "# Widgets for user inputs\n",
    "city_input = widgets.Text(\n",
    "    value='',\n",
    "    placeholder='City, State (if any), Country in full',\n",
    "    description='City:',\n",
    "    disabled=False\n",
    ")\n",
    "\n",
    "network_types_input = widgets.SelectMultiple(\n",
    "    options=[\"motorway\", \"trunk\", \"primary\", \"secondary\", \"tertiary\", \"motorway_link\", \"trunk_link\"],\n",
    "    value=[\"motorway\", \"trunk\", \"primary\"],\n",
    "    description='Network Types',\n",
    "    disabled=False\n",
    ")\n",
    "\n",
    "road_color_input = widgets.ColorPicker(\n",
    "    value='#ffffff',\n",
    "    description='Road Color',\n",
    "    disabled=False\n",
    ")\n",
    "\n",
    "bg_color_input = widgets.ColorPicker(\n",
    "    value='#000000',\n",
    "    description='BG Color',\n",
    "    disabled=False\n",
    ")\n",
    "\n",
    "submit_button = widgets.Button(\n",
    "    description='Submit',\n",
    "    disabled=False,\n",
    "    button_style='',\n",
    "    tooltip='Submit',\n",
    "    icon='check'\n",
    ")\n",
    "\n",
    "output = widgets.Output()\n",
    "\n",
    "def on_submit_button_clicked(b):\n",
    "    with output:\n",
    "        output.clear_output()\n",
    "        create_map(city_input.value, network_types_input.value, road_color_input.value, bg_color_input.value)\n",
    "\n",
    "submit_button.on_click(on_submit_button_clicked)\n",
    "\n",
    "# Display the widgets and output\n",
    "display(city_input, network_types_input, road_color_input, bg_color_input, submit_button, output)"
   ]
  }
 ],
 "metadata": {
  "kernelspec": {
   "display_name": "Python 3 (ipykernel)",
   "language": "python",
   "name": "python3"
  },
  "language_info": {
   "codemirror_mode": {
    "name": "ipython",
    "version": 3
   },
   "file_extension": ".py",
   "mimetype": "text/x-python",
   "name": "python",
   "nbconvert_exporter": "python",
   "pygments_lexer": "ipython3",
   "version": "3.12.2"
  }
 },
 "nbformat": 4,
 "nbformat_minor": 5
}
